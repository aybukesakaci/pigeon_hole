{
 "cells": [
  {
   "cell_type": "code",
   "execution_count": null,
   "metadata": {},
   "outputs": [],
   "source": [
    "#Soru: Seçilecek sadece dört takım (m = 4 yuva) sınırlamasıyla, bir takım turnuvasında oynamak isteyen yedi kişiyi (n = 7 güvercin) hayal edin. Bir takım en az kaç kişi içerir?\n",
    "\n",
    "#Cevap: Güvercin yuvası prensibi bize hepsinin farklı takımlarda oynayamayacağını söyler; yedi oyuncudan en az ikisini içeren en az bir takım olmalıdır.\n",
    "\n",
    "#Ekrandan girilen takım sayısı ve kisi sayısına bağlı olarak bir takımda en az kaç kişi olabileceğini hesaplayan kod aşağıdaki gibidir.\n",
    "\n",
    "import math\n",
    "def pigeonholeprinciple():\n",
    "    xx=True\n",
    "    while xx==True:  \n",
    "        kisi=int(input('kisi sayısı='))\n",
    "        takim=int(input('takım sayısı='))\n",
    "        if kisi >=  takim:\n",
    "            bb = math.ceil(kisi / takim)\n",
    "            print('en az bir takım', kisi, 'oyuncudan en az', bb ,'oyuncuya sahiptir')\n",
    "            xx=False\n",
    "        else:\n",
    "            print('kisi sayisi takım sayısından büyük yada eşit olmalıdır!!')\n",
    "            xx=True\n",
    "    return"
   ]
  },
  {
   "cell_type": "code",
   "execution_count": null,
   "metadata": {},
   "outputs": [],
   "source": []
  },
  {
   "cell_type": "code",
   "execution_count": null,
   "metadata": {},
   "outputs": [],
   "source": []
  },
  {
   "cell_type": "code",
   "execution_count": null,
   "metadata": {},
   "outputs": [],
   "source": []
  },
  {
   "cell_type": "code",
   "execution_count": null,
   "metadata": {},
   "outputs": [],
   "source": []
  },
  {
   "cell_type": "code",
   "execution_count": null,
   "metadata": {},
   "outputs": [],
   "source": []
  }
 ],
 "metadata": {
  "kernelspec": {
   "display_name": "Python 3",
   "language": "python",
   "name": "python3"
  },
  "language_info": {
   "codemirror_mode": {
    "name": "ipython",
    "version": 3
   },
   "file_extension": ".py",
   "mimetype": "text/x-python",
   "name": "python",
   "nbconvert_exporter": "python",
   "pygments_lexer": "ipython3",
   "version": "3.7.1"
  }
 },
 "nbformat": 4,
 "nbformat_minor": 2
}
