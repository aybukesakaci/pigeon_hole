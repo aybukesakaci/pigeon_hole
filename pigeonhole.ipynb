{
  "nbformat": 4,
  "nbformat_minor": 0,
  "metadata": {
    "colab": {
      "name": "pigeonhole.ipynb",
      "version": "0.3.2",
      "provenance": [],
      "include_colab_link": true
    },
    "kernelspec": {
      "display_name": "Python 3",
      "language": "python",
      "name": "python3"
    }
  },
  "cells": [
    {
      "cell_type": "markdown",
      "metadata": {
        "id": "view-in-github",
        "colab_type": "text"
      },
      "source": [
        "<a href=\"https://colab.research.google.com/github/aybukesakaci/pigeon_hole/blob/master/pigeonhole.ipynb\" target=\"_parent\"><img src=\"https://colab.research.google.com/assets/colab-badge.svg\" alt=\"Open In Colab\"/></a>"
      ]
    },
    {
      "metadata": {
        "id": "Y3wXpYi3VJrw",
        "colab_type": "text"
      },
      "cell_type": "markdown",
      "source": [
        "#Soru: \n",
        "\n",
        "Seçilecek sadece dört takım (m = 4 yuva) sınırlamasıyla, bir takım turnuvasında oynamak isteyen yedi kişiyi (n = 7 güvercin) hayal edin. Bir takım en az kaç kişi içerir?"
      ]
    },
    {
      "metadata": {
        "id": "zFBsXltEVdMD",
        "colab_type": "text"
      },
      "cell_type": "markdown",
      "source": [
        "#Cevap: \n",
        "\n",
        "Güvercin yuvası prensibi bize hepsinin farklı takımlarda oynayamayacağını söyler; yedi oyuncudan en az ikisini içeren en az bir takım olmalıdır."
      ]
    },
    {
      "metadata": {
        "id": "_2SeR-z2aFAz",
        "colab_type": "text"
      },
      "cell_type": "markdown",
      "source": [
        "#Örnek Kod:\n",
        "\n",
        "Ekrandan girilen takım sayısı ve kisi sayısına bağlı olarak bir takımda en az kaç kişi olabileceğini hesaplayan kod aşağıdaki gibidir. \n",
        "\n",
        "Pigeonhole prensibine göre pigeon (güvercin) sayısı hole (yuva) sayısından büyük olmalıdır. Kullanıcının girdiği kisi sayısı takım sayısından büyük olduğu durumlarda pigeonhole prensibi işletilir. Kullanıcı kişi sayısını takım sayısına eşit ya da küçük girerse işlem tekrarlanır. Ekranda kullanıcı için   'Kisi sayisi takım sayısından büyük olmalıdır!!'' ifadesi çıkar ve tekrar yeni kisi sayısı ve takım sayısı girmesi beklenir. Bu işlem girilen kisi sayısı takım sayısından büyük olana kadar devam eder.\n",
        "\n"
      ]
    },
    {
      "metadata": {
        "id": "h26PD6vwVAHT",
        "colab_type": "code",
        "colab": {
          "base_uri": "https://localhost:8080/",
          "height": 68
        },
        "outputId": "0e3ce5e9-43c4-40de-e608-8004bf2c7dac"
      },
      "cell_type": "code",
      "source": [
        "import math\n",
        "  \n",
        "xx=True\n",
        "while xx==True:  \n",
        "  kisi=int(input('kisi sayısı='))\n",
        "  takim=int(input('takım sayısı='))\n",
        "  if kisi >  takim:\n",
        "        bb = math.ceil(kisi / takim)\n",
        "        print('Bir takım', kisi, 'oyuncudan en az', bb ,'oyuncuya sahiptir')\n",
        "        xx=False\n",
        "  else:\n",
        "        print('Kisi sayisi takım sayısından büyük olmalıdır!!')\n",
        "        xx=True"
      ],
      "execution_count": 11,
      "outputs": [
        {
          "output_type": "stream",
          "text": [
            "kisi sayısı=7\n",
            "takım sayısı=4\n",
            "Bir takım 7 oyuncudan en az 2 oyuncuya sahiptir\n"
          ],
          "name": "stdout"
        }
      ]
    }
  ]
}